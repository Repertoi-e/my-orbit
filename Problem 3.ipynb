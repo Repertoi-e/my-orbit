{
 "cells": [
  {
   "cell_type": "code",
   "execution_count": 1,
   "id": "89fdd1c7",
   "metadata": {},
   "outputs": [
    {
     "name": "stdout",
     "output_type": "stream",
     "text": [
      "Collecting sgp4\n",
      "  Obtaining dependency information for sgp4 from https://files.pythonhosted.org/packages/dd/fc/27496962d238fc18b9a005035141373307267830e3cf2b3bb04de7dfbebe/sgp4-2.23-cp311-cp311-macosx_11_0_arm64.whl.metadata\n",
      "  Downloading sgp4-2.23-cp311-cp311-macosx_11_0_arm64.whl.metadata (31 kB)\n",
      "Downloading sgp4-2.23-cp311-cp311-macosx_11_0_arm64.whl (158 kB)\n",
      "\u001b[2K   \u001b[90m━━━━━━━━━━━━━━━━━━━━━━━━━━━━━━━━━━━━━━━━\u001b[0m \u001b[32m158.6/158.6 kB\u001b[0m \u001b[31m11.3 MB/s\u001b[0m eta \u001b[36m0:00:00\u001b[0m\n",
      "\u001b[?25hInstalling collected packages: sgp4\n",
      "Successfully installed sgp4-2.23\n",
      "\n",
      "\u001b[1m[\u001b[0m\u001b[34;49mnotice\u001b[0m\u001b[1;39;49m]\u001b[0m\u001b[39;49m A new release of pip is available: \u001b[0m\u001b[31;49m23.2.1\u001b[0m\u001b[39;49m -> \u001b[0m\u001b[32;49m23.3.1\u001b[0m\n",
      "\u001b[1m[\u001b[0m\u001b[34;49mnotice\u001b[0m\u001b[1;39;49m]\u001b[0m\u001b[39;49m To update, run: \u001b[0m\u001b[32;49mpip install --upgrade pip\u001b[0m\n"
     ]
    }
   ],
   "source": [
    "!pip install sgp4"
   ]
  },
  {
   "cell_type": "code",
   "execution_count": 2,
   "id": "9658e00e",
   "metadata": {},
   "outputs": [],
   "source": [
    "%matplotlib inline"
   ]
  },
  {
   "cell_type": "code",
   "execution_count": 4,
   "id": "7b9e1d72",
   "metadata": {},
   "outputs": [],
   "source": [
    "import numpy as np\n",
    "\n",
    "import sympy as sp\n",
    "\n",
    "import my_orbit_lib.epoch\n",
    "from my_orbit_lib.epoch import Epoch\n",
    "from datetime import datetime\n",
    "\n",
    "from sgp4.api import Satrec, jday, SGP4_ERRORS\n",
    "\n",
    "import urllib.request"
   ]
  },
  {
   "attachments": {},
   "cell_type": "markdown",
   "id": "3fe73198",
   "metadata": {},
   "source": [
    "# Problem 3 - SGP4 Propagator"
   ]
  },
  {
   "attachments": {},
   "cell_type": "markdown",
   "id": "5e954e1e",
   "metadata": {},
   "source": [
    "## Tinkering with SGP4\n",
    "\n",
    "First let's test the library and see how it works. I'll use the example they provide at the website: https://pypi.org/project/sgp4/"
   ]
  },
  {
   "cell_type": "code",
   "execution_count": 5,
   "id": "17149f42",
   "metadata": {},
   "outputs": [],
   "source": [
    "s = '1 25544U 98067A   19343.69339541  .00001764  00000-0  38792-4 0  9991'\n",
    "t = '2 25544  51.6439 211.2001 0007417  17.6667  85.6398 15.50103472202482'\n",
    "satellite = Satrec.twoline2rv(s, t)"
   ]
  },
  {
   "attachments": {},
   "cell_type": "markdown",
   "id": "beffcef3",
   "metadata": {},
   "source": [
    "And propagate it to, quote, 12:50:19 on 29 June 2000:"
   ]
  },
  {
   "cell_type": "code",
   "execution_count": 6,
   "id": "ac43710c",
   "metadata": {},
   "outputs": [
    {
     "data": {
      "text/plain": [
       "0"
      ]
     },
     "execution_count": 6,
     "metadata": {},
     "output_type": "execute_result"
    }
   ],
   "source": [
    "jd, fr = 2458827, 0.362605\n",
    "e, r, v = satellite.sgp4(jd, fr)\n",
    "e"
   ]
  },
  {
   "cell_type": "code",
   "execution_count": 7,
   "id": "32879201",
   "metadata": {},
   "outputs": [
    {
     "data": {
      "text/plain": [
       "((-6102.443287145759, -986.3320567914377, -2820.3130331545203),\n",
       " (-1.4552526713308918, -5.5274138264242625, 5.101042055899729))"
      ]
     },
     "execution_count": 7,
     "metadata": {},
     "output_type": "execute_result"
    }
   ],
   "source": [
    "r, v  # in True Equator Mean Equinox coordinates "
   ]
  },
  {
   "attachments": {},
   "cell_type": "markdown",
   "id": "2c0a9ccd",
   "metadata": {},
   "source": [
    "0 for e means there's no error. What's interesting is that they divide the JDE into two parts, the whole JD part and the fractional part for the hms. Since I wrote a JD function preliminary in problem 1, let's compare it to what this library expects. Without looking at the source code we'll see if the conversions match up. "
   ]
  },
  {
   "cell_type": "code",
   "execution_count": 8,
   "id": "9179d22b",
   "metadata": {},
   "outputs": [
    {
     "data": {
      "text/plain": [
       "datetime.datetime(2019, 12, 9, 20, 42, 9, 71993)"
      ]
     },
     "execution_count": 8,
     "metadata": {},
     "output_type": "execute_result"
    }
   ],
   "source": [
    "Epoch(2458827.362605).todatetime()"
   ]
  },
  {
   "attachments": {},
   "cell_type": "markdown",
   "id": "6cb55294",
   "metadata": {},
   "source": [
    ".. now this is certainly not the year 2000. However I suspect the date they quote just before the example is wrong. For one, again, using the [US Naval Observatory's JD Converter](https://aa.usno.navy.mil/data/JulianDate) for 2458827.362605 we get 2019/12/09 at 20:42:9.1\n",
    "\n",
    "Moreover, the library itself has a date to JD function which gives the same:"
   ]
  },
  {
   "cell_type": "code",
   "execution_count": 9,
   "id": "6a8e39e0",
   "metadata": {},
   "outputs": [
    {
     "data": {
      "text/plain": [
       "2458827.362604167"
      ]
     },
     "execution_count": 9,
     "metadata": {},
     "output_type": "execute_result"
    }
   ],
   "source": [
    "jd, fr = jday(2019, 12, 9, 20, 42, 9)\n",
    "jd + fr"
   ]
  },
  {
   "attachments": {},
   "cell_type": "markdown",
   "id": "d19fe7a2",
   "metadata": {},
   "source": [
    "Even though I got scared at the beginning it seems like it's really a typo in their example.\n",
    "\n",
    "Also, to get the same conversion, for our part we shouldn't pay attention to leap seconds, it seems like they are using TT by default. So let's disable it with the flag:"
   ]
  },
  {
   "cell_type": "code",
   "execution_count": 10,
   "id": "09784de7",
   "metadata": {},
   "outputs": [
    {
     "data": {
      "text/plain": [
       "2458827.3626041664"
      ]
     },
     "execution_count": 10,
     "metadata": {},
     "output_type": "execute_result"
    }
   ],
   "source": [
    "epoch = Epoch(datetime(2019, 12, 9, 20, 42, 9), utc=False)\n",
    "epoch.jde"
   ]
  },
  {
   "cell_type": "code",
   "execution_count": 11,
   "id": "4f271e46",
   "metadata": {},
   "outputs": [
    {
     "data": {
      "text/plain": [
       "(2458827.0, 0.3626041663810611)"
      ]
     },
     "execution_count": 11,
     "metadata": {},
     "output_type": "execute_result"
    }
   ],
   "source": [
    "def epoch_to_jd_fr(epoch):\n",
    "    fr = epoch.jde % 0.5\n",
    "    jd = epoch.jde - fr\n",
    "    return jd, fr\n",
    "\n",
    "epoch_to_jd_fr(epoch)"
   ]
  },
  {
   "attachments": {},
   "cell_type": "markdown",
   "id": "8f29517b",
   "metadata": {},
   "source": [
    "The documentation says the library accepts e.g. 2458827.5 for the whole part, which signifies half a day. So we mod it by 0.5 and not 1."
   ]
  },
  {
   "attachments": {},
   "cell_type": "markdown",
   "id": "a49bfc1d",
   "metadata": {},
   "source": [
    "## Propagating the Position of AQUA\n",
    "\n",
    "Now let's apply it to our satellite of interest:"
   ]
  },
  {
   "cell_type": "code",
   "execution_count": 12,
   "id": "e80276e9",
   "metadata": {},
   "outputs": [],
   "source": [
    "# Note that TLE is a format which is really really column specific.\n",
    "# e.g. pasting the lines below from the pdf blindly results in improper\n",
    "# parsing and then the SGP4 lib silently consumes it, giving errors later \n",
    "# when propagating.\n",
    "\n",
    "# The fix is to ensure the proper spacing and pay attention to where \n",
    "# stuff should sit according to https://celestrak.org/NORAD/documentation/tle-fmt.php\n",
    "\n",
    "'0 AQUA'\n",
    "\n",
    "# e.g. this is wrong, the columns are missing spaces:\n",
    "s_old = '1 27424U 02022A 23031.44029486 .00000919 00000-0 21178-3 0 9992'\n",
    "t_old = '2 27424 98.2732 336.4878 0000767 102.4680 35.7414 14.57638807103436'\n",
    "\n",
    "# this is right:\n",
    "s_old = '1 27424U 02022A   23031.44029486  .00000919  00000-0  21178-3 0  9992'\n",
    "t_old = '2 27424  98.2732 336.4878 0000767 102.4680  35.7414 14.57638807103436'\n",
    "\n",
    "aqua_old = Satrec.twoline2rv(s_old, t_old)"
   ]
  },
  {
   "cell_type": "code",
   "execution_count": 13,
   "id": "25e82905",
   "metadata": {},
   "outputs": [],
   "source": [
    "# 16:23:05 on the 1st of February 2023\n",
    "aqua_tbd = Epoch(datetime(2023, 2, 1, 16, 23, 5), utc=False)\n",
    "jd, fr = epoch_to_jd_fr(aqua_tbd)\n",
    "e, r, v = aqua_old.sgp4(jd, fr)\n",
    "if e != 0:\n",
    "    print(SGP4_ERRORS[e])"
   ]
  },
  {
   "cell_type": "code",
   "execution_count": 14,
   "id": "14b7f6e8",
   "metadata": {},
   "outputs": [
    {
     "data": {
      "text/plain": [
       "((-6556.911810573834, 2570.8682033473106, 733.2756194022593),\n",
       " (-0.3282354380158116, 1.2941755175511651, -7.385186412850507))"
      ]
     },
     "execution_count": 14,
     "metadata": {},
     "output_type": "execute_result"
    }
   ],
   "source": [
    "r, v # in True Equator Mean Equinox coordinates"
   ]
  },
  {
   "attachments": {},
   "cell_type": "markdown",
   "id": "50d0fd45",
   "metadata": {},
   "source": [
    "## Getting the Latest Info for AQUA"
   ]
  },
  {
   "cell_type": "code",
   "execution_count": 15,
   "id": "d2d9749f",
   "metadata": {},
   "outputs": [],
   "source": [
    "with urllib.request.urlopen('https://celestrak.org/NORAD/elements/active.txt') as response:\n",
    "    lines = [line.decode().strip() for line in response]"
   ]
  },
  {
   "cell_type": "code",
   "execution_count": 16,
   "id": "440e6a07",
   "metadata": {},
   "outputs": [],
   "source": [
    "for i, l in enumerate(lines):\n",
    "    if l.startswith('AQUA'):\n",
    "        break"
   ]
  },
  {
   "cell_type": "code",
   "execution_count": 17,
   "id": "e8df623a",
   "metadata": {},
   "outputs": [
    {
     "data": {
      "text/plain": [
       "(354, 'AQUA')"
      ]
     },
     "execution_count": 17,
     "metadata": {},
     "output_type": "execute_result"
    }
   ],
   "source": [
    "i, l"
   ]
  },
  {
   "cell_type": "code",
   "execution_count": 18,
   "id": "94806fb5",
   "metadata": {},
   "outputs": [
    {
     "data": {
      "text/plain": [
       "('1 27424U 02022A   23338.10562127  .00001725  00000+0  38031-3 0  9990',\n",
       " '2 27424  98.3074 282.1332 0001660  55.2068  72.5345 14.58632910148123')"
      ]
     },
     "execution_count": 18,
     "metadata": {},
     "output_type": "execute_result"
    }
   ],
   "source": [
    "s_newest, t_newest = lines[i + 1], lines[i + 2]\n",
    "s_newest, t_newest"
   ]
  },
  {
   "cell_type": "code",
   "execution_count": 19,
   "id": "2313ea03",
   "metadata": {},
   "outputs": [],
   "source": [
    "# 1 NNNNNU NNNNNAAA NNNNN.NNNNNNNN +.NNNNNNNN +NNNNN-N +NNNNN-N N NNNNN\n",
    "#   ^ sat number\n",
    "#\n",
    "#          ^^^^^^^^ designators\n",
    "#\n",
    "#                   ^^   epoch year (columns 19-20)\n",
    "#\n",
    "#                     ^^   Epoch (Day of the year and fractional portion of the day) (columns 21-32) "
   ]
  },
  {
   "cell_type": "code",
   "execution_count": 20,
   "id": "48282a23",
   "metadata": {},
   "outputs": [
    {
     "data": {
      "text/plain": [
       "('23', '338.10562127')"
      ]
     },
     "execution_count": 20,
     "metadata": {},
     "output_type": "execute_result"
    }
   ],
   "source": [
    "s_newest[18:20], s_newest[20:32]"
   ]
  },
  {
   "attachments": {},
   "cell_type": "markdown",
   "id": "a0836390",
   "metadata": {},
   "source": [
    "According to the format this means the 67th day of 2023 and the fractional part of the day."
   ]
  },
  {
   "cell_type": "code",
   "execution_count": 21,
   "id": "e733adb9",
   "metadata": {},
   "outputs": [
    {
     "data": {
      "text/plain": [
       "(2023, 338.10562127)"
      ]
     },
     "execution_count": 21,
     "metadata": {},
     "output_type": "execute_result"
    }
   ],
   "source": [
    "year = int('20' + s_newest[18:20])\n",
    "fr_day = float(s_newest[20:32])\n",
    "year, fr_day"
   ]
  },
  {
   "attachments": {},
   "cell_type": "markdown",
   "id": "a5930e73",
   "metadata": {},
   "source": [
    "[TLE FQA](https://celestrak.org/columns/v04n03/#FAQ02) states that an epoch of 98000.00000000 would actually correspond to the beginning of 1997 December 31. So to convert properly to date time we must start at December 31 of the previous year:"
   ]
  },
  {
   "cell_type": "code",
   "execution_count": 22,
   "id": "96c3bec5",
   "metadata": {},
   "outputs": [
    {
     "data": {
      "text/plain": [
       "Epoch(2460282.60562127)"
      ]
     },
     "execution_count": 22,
     "metadata": {},
     "output_type": "execute_result"
    }
   ],
   "source": [
    "aqua_latest_epoch = Epoch(Epoch(datetime(year - 1, 12, 31), utc=False).jde + fr_day)\n",
    "aqua_latest_epoch"
   ]
  },
  {
   "cell_type": "code",
   "execution_count": 23,
   "id": "32549536",
   "metadata": {},
   "outputs": [
    {
     "data": {
      "text/plain": [
       "datetime.datetime(2023, 12, 4, 2, 32, 5, 677720)"
      ]
     },
     "execution_count": 23,
     "metadata": {},
     "output_type": "execute_result"
    }
   ],
   "source": [
    "aqua_latest_epoch.todatetime()"
   ]
  },
  {
   "cell_type": "code",
   "execution_count": 24,
   "id": "e7da7e72",
   "metadata": {},
   "outputs": [],
   "source": [
    "jd, fr = epoch_to_jd_fr(aqua_latest_epoch)\n",
    "e, aqua_r_from_old_to_latest, aqua_v_from_old_to_latest = aqua_old.sgp4(jd, fr)\n",
    "if e != 0:\n",
    "    print(SGP4_ERRORS[e])"
   ]
  },
  {
   "attachments": {},
   "cell_type": "markdown",
   "id": "2580a6e3",
   "metadata": {},
   "source": [
    "This gives us the propagated version from the old TLE:"
   ]
  },
  {
   "cell_type": "code",
   "execution_count": 25,
   "id": "c62a2550",
   "metadata": {},
   "outputs": [
    {
     "data": {
      "text/plain": [
       "((788.409987245059, 1195.5388445405724, -6937.563915150476),\n",
       " (1.6188594141752017, -7.2367076490400155, -1.0636455586543232))"
      ]
     },
     "execution_count": 25,
     "metadata": {},
     "output_type": "execute_result"
    }
   ],
   "source": [
    "aqua_r_from_old_to_latest, aqua_v_from_old_to_latest"
   ]
  },
  {
   "attachments": {},
   "cell_type": "markdown",
   "id": "304db854",
   "metadata": {},
   "source": [
    "To compare it with the position information from latest TLE at the latest TLE epoch:"
   ]
  },
  {
   "cell_type": "code",
   "execution_count": 26,
   "id": "5d32d176",
   "metadata": {},
   "outputs": [],
   "source": [
    "aqua_latest = Satrec.twoline2rv(s_newest, t_newest)\n",
    "jd, fr = epoch_to_jd_fr(aqua_latest_epoch)\n",
    "e, aqua_r_latest, aqua_v_latest = satellite.sgp4(jd, fr)\n",
    "if e != 0:\n",
    "    print(SGP4_ERRORS[e])"
   ]
  },
  {
   "cell_type": "code",
   "execution_count": 27,
   "id": "7d817ad4",
   "metadata": {},
   "outputs": [
    {
     "data": {
      "text/plain": [
       "((-5411.931353588816, 3493.678215831159, -2087.7444853912166),\n",
       " (-4.218557269257569, -3.234703903412092, 5.537025864594144))"
      ]
     },
     "execution_count": 27,
     "metadata": {},
     "output_type": "execute_result"
    }
   ],
   "source": [
    "aqua_r_latest, aqua_v_latest"
   ]
  },
  {
   "attachments": {},
   "cell_type": "markdown",
   "id": "00b159b1",
   "metadata": {},
   "source": [
    "It's 5 weeks into the future, so a pretty big error:"
   ]
  },
  {
   "cell_type": "code",
   "execution_count": 28,
   "id": "15291b32",
   "metadata": {},
   "outputs": [
    {
     "data": {
      "text/plain": [
       "8200.391808566217"
      ]
     },
     "execution_count": 28,
     "metadata": {},
     "output_type": "execute_result"
    }
   ],
   "source": [
    "np.linalg.norm(np.array(aqua_r_from_old_to_latest) - np.array(aqua_r_latest))"
   ]
  },
  {
   "cell_type": "code",
   "execution_count": null,
   "id": "0975b2a4",
   "metadata": {},
   "outputs": [],
   "source": []
  }
 ],
 "metadata": {
  "kernelspec": {
   "display_name": "Python 3 (ipykernel)",
   "language": "python",
   "name": "python3"
  },
  "language_info": {
   "codemirror_mode": {
    "name": "ipython",
    "version": 3
   },
   "file_extension": ".py",
   "mimetype": "text/x-python",
   "name": "python",
   "nbconvert_exporter": "python",
   "pygments_lexer": "ipython3",
   "version": "3.11.4"
  }
 },
 "nbformat": 4,
 "nbformat_minor": 5
}
